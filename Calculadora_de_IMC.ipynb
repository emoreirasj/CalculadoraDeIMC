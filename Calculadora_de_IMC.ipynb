{
  "nbformat": 4,
  "nbformat_minor": 0,
  "metadata": {
    "colab": {
      "provenance": [],
      "authorship_tag": "ABX9TyPN9apTinMm/jpbaj2BVibG",
      "include_colab_link": true
    },
    "kernelspec": {
      "name": "python3",
      "display_name": "Python 3"
    },
    "language_info": {
      "name": "python"
    }
  },
  "cells": [
    {
      "cell_type": "markdown",
      "metadata": {
        "id": "view-in-github",
        "colab_type": "text"
      },
      "source": [
        "<a href=\"https://colab.research.google.com/github/emoreirasj/CalculadoraDeIMC/blob/main/Calculadora_de_IMC.ipynb\" target=\"_parent\"><img src=\"https://colab.research.google.com/assets/colab-badge.svg\" alt=\"Open In Colab\"/></a>"
      ]
    },
    {
      "cell_type": "code",
      "execution_count": 9,
      "metadata": {
        "colab": {
          "base_uri": "https://localhost:8080/"
        },
        "id": "V8joR0PnfQcg",
        "outputId": "e1b92596-609a-4951-93af-72322a3ca1f9"
      },
      "outputs": [
        {
          "output_type": "stream",
          "name": "stdout",
          "text": [
            " Bem vindo a calculadora de IMC!\n",
            "Para começar digite a sua altura em metros:1.55\n",
            "Agora digite seu peso:58\n",
            "Seu IMC é: 24.14\n",
            "Você está no peso ideal\n"
          ]
        }
      ],
      "source": [
        "print(\" Bem vindo a calculadora de IMC!\")\n",
        "altura = float(input(\"Para começar digite a sua altura em metros:\"))\n",
        "peso = int(input(\"Agora digite seu peso:\"))\n",
        "IMC = round((peso/(altura*altura)),2)\n",
        "IMC = str(IMC)\n",
        "print(\"Seu IMC é: \" + IMC)\n",
        "\n",
        "IMCVerificado = float(IMC)\n",
        "\n",
        "if IMCVerificado < 18.50:\n",
        "  print(\"Você está abaixo do peso ideal\")\n",
        "elif IMCVerificado >= 18.60 and IMCVerificado <= 24.90:\n",
        "  print(\"Você está no peso ideal\")\n",
        "elif IMCVerificado >= 25.0 and IMCVerificado <= 29.90:\n",
        "  print(\"Você está levemente acima do peso\")\n",
        "elif IMCVerificado >= 30.0 and IMCVerificado <= 34.90:\n",
        "  print(\"Você está com Obesidade Grau I\")\n",
        "elif IMCVerificado >= 35.0 and IMCVerificado <= 39.90:\n",
        "  print(\"Você está com Obesidade Grau II\")\n",
        "elif IMCVerificado >= 18.60 and IMCVerificado <= 24.90:\n",
        "  print(\"Você está com Obesidade Grau III\")\n",
        "else:\n",
        "  \"Tente novamente\"\n",
        "\n"
      ]
    }
  ]
}